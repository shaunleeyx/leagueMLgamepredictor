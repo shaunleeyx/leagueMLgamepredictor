import os

import tensorflow as tf
from tensorflow import keras
import pandas as pd
import numpy as np

# Make numpy values easier to read.
np.set_printoptions(precision=3, suppress=True)

aram_train = pd.read_csv("../riot_api/data.csv"
	    "",
    names=["losing1", "losing2", "losing3", "losing4", "losing5",
           "winning1", "winning2", "winning3", "winning4", "winning5"])

