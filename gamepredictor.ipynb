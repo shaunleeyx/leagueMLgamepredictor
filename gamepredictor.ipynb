{
 "cells": [
  {
   "cell_type": "code",
   "execution_count": 18,
   "metadata": {},
   "outputs": [],
   "source": [
    "from tensorflow import keras\n",
    "import pandas as pd\n",
    "import numpy as np\n",
    "from sklearn.model_selection import train_test_split\n",
    "# Make numpy values easier to read.\n",
    "np.set_printoptions(precision=3, suppress=True)\n",
    "pd.set_option('display.max_rows', None)\n",
    "pd.set_option('display.max_columns', None)\n",
    "pd.set_option('display.width', 1000)\n",
    "pd.set_option('display.colheader_justify', 'center')\n",
    "pd.set_option('display.precision', 3)\n",
    "\n",
    "\n",
    "\n",
    "df = pd.read_csv(\"../riot_api/data.csv\"\n",
    "\t    \"\",\n",
    "    names=[\"losing1\", \"losing2\", \"losing3\", \"losing4\", \"losing5\",\n",
    "           \"winning1\", \"winning2\", \"winning3\", \"winning4\", \"winning5\"])"
   ]
  },
  {
   "cell_type": "code",
   "execution_count": 20,
   "metadata": {},
   "outputs": [
    {
     "name": "stdout",
     "output_type": "stream",
     "text": [
      "  losing1     losing2    losing3  losing4 losing5     winning1   winning2  winning3    winning4   winning5\n",
      "0    Leona           Vex   Anivia  Graves  Caitlyn        Singed  Nidalee  TahmKench       Ezreal   Rakan \n",
      "1   Veigar           Zed  Chogath  Zilean   Irelia           Lux     Fizz    Morgana  Mordekaiser   Senna \n",
      "2  Karthus  FiddleSticks      Vex   Amumu     Ashe        Lillia  Belveth       Zyra      Leblanc   Nasus \n",
      "3   Zilean          Ekko  Chogath    Lulu   Ezreal  Heimerdinger      Vex     Aatrox        Leona    Sett \n",
      "4      Lux         Nasus   Xerath    Jhin   Graves         Leona    Varus     Veigar        Riven  Soraka \n"
     ]
    }
   ],
   "source": [
    "print(df.head())"
   ]
  },
  {
   "cell_type": "code",
   "execution_count": null,
   "metadata": {},
   "outputs": [],
   "source": [
    "\n",
    "X = pd.get_dummies(df.drop(['Churn', 'Customer ID'], axis=1))\n",
    "y = df['Churn'].apply(lambda x: 1 if x=='Yes' else 0)"
   ]
  },
  {
   "cell_type": "code",
   "execution_count": null,
   "metadata": {},
   "outputs": [],
   "source": [
    "X_train, X_test, y_train, y_test = train_test_split(X, y, test_size=.2)"
   ]
  },
  {
   "cell_type": "code",
   "execution_count": null,
   "metadata": {},
   "outputs": [],
   "source": [
    "from tensorflow.keras.models import Sequential, load_model\n",
    "from tensorflow.keras.layers import Dense\n",
    "from sklearn.metrics import accuracy_score"
   ]
  }
 ],
 "metadata": {
  "kernelspec": {
   "display_name": "Python 3 (ipykernel)",
   "language": "python",
   "name": "python3"
  },
  "language_info": {
   "codemirror_mode": {
    "name": "ipython",
    "version": 3
   },
   "file_extension": ".py",
   "mimetype": "text/x-python",
   "name": "python",
   "nbconvert_exporter": "python",
   "pygments_lexer": "ipython3",
   "version": "3.10.8"
  },
  "vscode": {
   "interpreter": {
    "hash": "9fcd43cd61819930905ef69d9882d837b797253d7647f4c646a18e06cebcc906"
   }
  }
 },
 "nbformat": 4,
 "nbformat_minor": 4
}
